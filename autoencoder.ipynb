{
  "nbformat": 4,
  "nbformat_minor": 0,
  "metadata": {
    "colab": {
      "provenance": []
    },
    "kernelspec": {
      "name": "python3",
      "display_name": "Python 3"
    },
    "language_info": {
      "name": "python"
    }
  },
  "cells": [
    {
      "cell_type": "code",
      "execution_count": 32,
      "metadata": {
        "id": "snvBoX7D_T5o"
      },
      "outputs": [],
      "source": [
        "import torch\n",
        "from torch import nn\n",
        "from torchvision import datasets, transforms\n",
        "import matplotlib.pyplot as plt"
      ]
    },
    {
      "cell_type": "code",
      "source": [
        "dataset_train = datasets.MNIST('MNIST-data', train = True, download = True, transform = transforms.ToTensor())\n",
        "train_loader = torch.utils.data.DataLoader(dataset_train, batch_size = 256, shuffle = True)\n",
        "dataset_test = datasets.MNIST('MNIST-data', train = False, download = True, transform = transforms.ToTensor())\n",
        "val_loader = torch.utils.data.DataLoader(dataset_test, batch_size = 256, shuffle = True)"
      ],
      "metadata": {
        "id": "gW9Re8WZAJU4"
      },
      "execution_count": 33,
      "outputs": []
    },
    {
      "cell_type": "code",
      "source": [
        "class autoencoder(nn.Module):\n",
        "  def __init__(self):\n",
        "    super().__init__()\n",
        "    # in_features = largura*altura*canais -> 28*28 = 784\n",
        "    self.dense0 = nn.Linear(in_features = 784, out_features = 32)\n",
        "    self.activation0 = nn.ReLU()\n",
        "    self.dense1 = nn.Linear(32, 784)\n",
        "    self.activation1 = nn.Sigmoid()\n",
        "\n",
        "  def forward(self, x):\n",
        "    # view significa mudar a estrutura de dados (matrix -> vetor)\n",
        "    # -1 significa um numero indeterminado de dados\n",
        "    # o segundo parametro eh o tamanho da imagem\n",
        "    x = x.view(-1, 28*28)\n",
        "    x = self.activation0(self.dense0(x))\n",
        "    x = self.activation1(self.dense1(x))\n",
        "\n",
        "    return x"
      ],
      "metadata": {
        "id": "0MEM4U-sBkYk"
      },
      "execution_count": 34,
      "outputs": []
    },
    {
      "cell_type": "code",
      "source": [
        "device = torch.device('cuda') if torch.cuda.is_available() else torch.device('cpu')"
      ],
      "metadata": {
        "id": "5JuXKSg9BKfB"
      },
      "execution_count": 35,
      "outputs": []
    },
    {
      "cell_type": "code",
      "source": [
        "print(device)"
      ],
      "metadata": {
        "colab": {
          "base_uri": "https://localhost:8080/"
        },
        "id": "VWCKS7z7mdvL",
        "outputId": "9b269336-9e06-4900-d0fc-9d9b2b9c449b"
      },
      "execution_count": 36,
      "outputs": [
        {
          "output_type": "stream",
          "name": "stdout",
          "text": [
            "cuda\n"
          ]
        }
      ]
    },
    {
      "cell_type": "code",
      "source": [
        "criterion = nn.BCELoss()\n",
        "model = autoencoder()\n",
        "optimizer = torch.optim.Adam(model.parameters())\n",
        "model.to(device)"
      ],
      "metadata": {
        "colab": {
          "base_uri": "https://localhost:8080/"
        },
        "id": "deWFpZS6EA_V",
        "outputId": "8eb2d2a6-e46c-45d6-f839-82fb92f4e4f4"
      },
      "execution_count": 37,
      "outputs": [
        {
          "output_type": "execute_result",
          "data": {
            "text/plain": [
              "autoencoder(\n",
              "  (dense0): Linear(in_features=784, out_features=32, bias=True)\n",
              "  (activation0): ReLU()\n",
              "  (dense1): Linear(in_features=32, out_features=784, bias=True)\n",
              "  (activation1): Sigmoid()\n",
              ")"
            ]
          },
          "metadata": {},
          "execution_count": 37
        }
      ]
    },
    {
      "cell_type": "code",
      "source": [
        "for epoch in range(20):\n",
        "  #Treinamento\n",
        "  running_loss_train = 0.\n",
        "  for data in train_loader:\n",
        "    model.train()\n",
        "    inputs, _ = data\n",
        "    inputs = inputs.to(device)\n",
        "    optimizer.zero_grad()\n",
        "\n",
        "    outputs = model.forward(inputs)\n",
        "    loss = criterion(outputs, inputs.view(*outputs.shape))\n",
        "    #inputs.view(*outputs.shape) deixa o inputs no mesmo formato (dimensoes da matriz) que outputs\n",
        "    loss.backward()\n",
        "    optimizer.step()\n",
        "\n",
        "    running_loss_train += loss.item()\n",
        "\n",
        "  running_loss_val = 0.\n",
        "  for data in val_loader:\n",
        "    model.eval()\n",
        "    inputs, _ = data\n",
        "    inputs = inputs.to(device)\n",
        "    #optimizer.zero_grad()\n",
        "    outputs = model.forward(inputs)\n",
        "    loss = criterion(outputs, inputs.view(*outputs.shape))\n",
        "    #inputs.view(*outputs.shape) deixa o inputs no mesmo formato (dimensoes da matriz) que outputs\n",
        "    #loss.backward()\n",
        "    #optimizer.step()\n",
        "\n",
        "    running_loss_val += loss.item()\n",
        "  print('Epoch {:3d}: perda_train {:.5f} perda_val {:.5f}'.format(epoch + 1, running_loss_train/len(train_loader), running_loss_val/len(val_loader)))\n"
      ],
      "metadata": {
        "colab": {
          "base_uri": "https://localhost:8080/"
        },
        "id": "M0LSFDQuEaMj",
        "outputId": "155f8f74-4ac3-4b76-daef-3e45e05f96f1"
      },
      "execution_count": 38,
      "outputs": [
        {
          "output_type": "stream",
          "name": "stdout",
          "text": [
            "Epoch   1: perda_train 0.30066 perda_val 0.20736\n",
            "Epoch   2: perda_train 0.18622 perda_val 0.16776\n",
            "Epoch   3: perda_train 0.15860 perda_val 0.14687\n",
            "Epoch   4: perda_train 0.14067 perda_val 0.13286\n",
            "Epoch   5: perda_train 0.13044 perda_val 0.12551\n",
            "Epoch   6: perda_train 0.12446 perda_val 0.12111\n",
            "Epoch   7: perda_train 0.12041 perda_val 0.11724\n",
            "Epoch   8: perda_train 0.11756 perda_val 0.11509\n",
            "Epoch   9: perda_train 0.11547 perda_val 0.11300\n",
            "Epoch  10: perda_train 0.11403 perda_val 0.11215\n",
            "Epoch  11: perda_train 0.11306 perda_val 0.11090\n",
            "Epoch  12: perda_train 0.11244 perda_val 0.11053\n",
            "Epoch  13: perda_train 0.11198 perda_val 0.11019\n",
            "Epoch  14: perda_train 0.11169 perda_val 0.10995\n",
            "Epoch  15: perda_train 0.11148 perda_val 0.10951\n",
            "Epoch  16: perda_train 0.11131 perda_val 0.10968\n",
            "Epoch  17: perda_train 0.11120 perda_val 0.10974\n",
            "Epoch  18: perda_train 0.11110 perda_val 0.10910\n",
            "Epoch  19: perda_train 0.11102 perda_val 0.10899\n",
            "Epoch  20: perda_train 0.11091 perda_val 0.10889\n"
          ]
        }
      ]
    },
    {
      "cell_type": "code",
      "source": [
        "list(model.children())"
      ],
      "metadata": {
        "colab": {
          "base_uri": "https://localhost:8080/"
        },
        "id": "sncglOufnh6w",
        "outputId": "b79de8d6-c458-4e4c-cfd9-bf9f84de9885"
      },
      "execution_count": 39,
      "outputs": [
        {
          "output_type": "execute_result",
          "data": {
            "text/plain": [
              "[Linear(in_features=784, out_features=32, bias=True),\n",
              " ReLU(),\n",
              " Linear(in_features=32, out_features=784, bias=True),\n",
              " Sigmoid()]"
            ]
          },
          "metadata": {},
          "execution_count": 39
        }
      ]
    },
    {
      "cell_type": "code",
      "source": [
        "class encoder(nn.Module):\n",
        "  def __init__(self):\n",
        "    super().__init__()\n",
        "    self.dense0 = list(model.children())[0]\n",
        "    self.activation0 = list(model.children())[1]\n",
        "\n",
        "  def forward(self, x):\n",
        "    x = x.view(-1, 28*28)\n",
        "    x = self.activation0(self.dense0(x))\n",
        "    return x"
      ],
      "metadata": {
        "id": "rDKnygVxocOb"
      },
      "execution_count": 40,
      "outputs": []
    },
    {
      "cell_type": "code",
      "source": [
        "class decoder(nn.Module):\n",
        "  def __init__(self):\n",
        "    super().__init__()\n",
        "\n",
        "    self.dense0 = list(model.children())[2]\n",
        "    self.activation0 = list(model.children())[3]\n",
        "\n",
        "  def forward(self,x):\n",
        "    x = self.activation0(self.dense0(x))\n",
        "    return x"
      ],
      "metadata": {
        "id": "KfqgexeNpbJg"
      },
      "execution_count": 41,
      "outputs": []
    },
    {
      "cell_type": "code",
      "source": [
        "encod = encoder()\n",
        "decod = decoder()\n",
        "\n",
        "encod.to(device)\n",
        "decod.to(device)"
      ],
      "metadata": {
        "colab": {
          "base_uri": "https://localhost:8080/"
        },
        "id": "Ljn8Lox4pPt9",
        "outputId": "d1445383-88eb-4907-d1ff-51daf7be9154"
      },
      "execution_count": 42,
      "outputs": [
        {
          "output_type": "execute_result",
          "data": {
            "text/plain": [
              "decoder(\n",
              "  (dense0): Linear(in_features=32, out_features=784, bias=True)\n",
              "  (activation0): Sigmoid()\n",
              ")"
            ]
          },
          "metadata": {},
          "execution_count": 42
        }
      ]
    },
    {
      "cell_type": "code",
      "source": [
        "numero_imagens = 10\n",
        "imagens_teste = next(iter(val_loader))[0][:numero_imagens]\n",
        "imagens_teste = imagens_teste.to(device)"
      ],
      "metadata": {
        "id": "MzTdOaOsxp6R"
      },
      "execution_count": 43,
      "outputs": []
    },
    {
      "cell_type": "code",
      "source": [
        "encod.eval()\n",
        "imagens_codificadas = encod.forward(imagens_teste)\n"
      ],
      "metadata": {
        "id": "nExAykAYyhcf"
      },
      "execution_count": 44,
      "outputs": []
    },
    {
      "cell_type": "code",
      "source": [
        "imagens_codificadas.shape"
      ],
      "metadata": {
        "colab": {
          "base_uri": "https://localhost:8080/"
        },
        "id": "gWPMuYRwzmJ0",
        "outputId": "79ad6eac-04e3-442e-ca87-f5e84742c0f2"
      },
      "execution_count": 45,
      "outputs": [
        {
          "output_type": "execute_result",
          "data": {
            "text/plain": [
              "torch.Size([10, 32])"
            ]
          },
          "metadata": {},
          "execution_count": 45
        }
      ]
    },
    {
      "cell_type": "code",
      "source": [
        "decod.eval()\n",
        "imagens_decodificadas = decod.forward(imagens_codificadas)"
      ],
      "metadata": {
        "id": "n4N7HldtzFtB"
      },
      "execution_count": 46,
      "outputs": []
    },
    {
      "cell_type": "code",
      "source": [
        "imagens_teste = imagens_teste.detach().cpu().numpy().reshape(-1, 28, 28)\n",
        "imagens_codificadas = imagens_codificadas.detach().cpu().numpy().reshape(-1, 8, 4)\n",
        "imagens_decodificadas = imagens_decodificadas.detach().cpu().numpy().reshape(-1, 28, 28)"
      ],
      "metadata": {
        "id": "KKqlThzazWWH"
      },
      "execution_count": 47,
      "outputs": []
    },
    {
      "cell_type": "code",
      "source": [
        "fig, axes = plt.subplots(nrows = 3, ncols = numero_imagens, figsize = (10, 4))\n",
        "for imagens, ax_row in zip([imagens_teste, imagens_codificadas, imagens_decodificadas], axes):\n",
        "  for img, ax in zip(imagens, ax_row):\n",
        "    ax.imshow(img, cmap = 'gray')\n",
        "    ax.get_xaxis().set_visible(False)\n",
        "    ax.get_yaxis().set_visible(False)"
      ],
      "metadata": {
        "colab": {
          "base_uri": "https://localhost:8080/",
          "height": 320
        },
        "id": "emwMDbJv0ZPU",
        "outputId": "195646f4-64c5-440c-ca9c-4d3768bc1292"
      },
      "execution_count": 48,
      "outputs": [
        {
          "output_type": "display_data",
          "data": {
            "text/plain": [
              "<Figure size 1000x400 with 30 Axes>"
            ],
            "image/png": "[encoded data removed]"
          },
          "metadata": {}
        }
      ]
    }
  ]
}